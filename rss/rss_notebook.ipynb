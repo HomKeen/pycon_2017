{
 "cells": [
  {
   "cell_type": "markdown",
   "metadata": {},
   "source": [
    "## RSS"
   ]
  },
  {
   "cell_type": "markdown",
   "metadata": {},
   "source": [
    "You can find RSS feeds on many different sites. [Library of Congress](https://www.loc.gov/rss/) has a lot. Most blogs and news web sites have them, for example [Tech Crunch](https://techcrunch.com/rssfeeds/), [New York Times](http://www.nytimes.com/services/xml/rss/index.html), and [NPR](https://help.npr.org/customer/portal/articles/2094175-where-can-i-find-npr-rss-feeds-). The [DC Public Library](http://www.dclibrary.org/) even gives you an RSS feed of your [catalog searches](https://catalog.dclibrary.org/client/rss/hitlist/dcpl/qu=python). iTunes delivers podcasts by [aggregating RSS feeds](http://itunespartner.apple.com/en/podcasts/faq) from content creators. \n",
    "\n",
    "Today we are going to take a look at the [Netflix Top 100 DVDs](https://dvd.netflix.com/RSSFeeds). We will use the Python package [FeedParser](https://pypi.python.org/pypi/feedparser) to work with the RSS feed. FeedParser will allow us to deconstruct the data in the feed."
   ]
  },
  {
   "cell_type": "code",
   "execution_count": 1,
   "metadata": {},
   "outputs": [],
   "source": [
    "import feedparser\n",
    "import pandas as pd"
   ]
  },
  {
   "cell_type": "code",
   "execution_count": 38,
   "metadata": {},
   "outputs": [],
   "source": [
    "RSS_URL = \"https://usa.newonnetflix.info/feed\"#\"http://dvd.netflix.com/Top100RSS\""
   ]
  },
  {
   "cell_type": "code",
   "execution_count": 39,
   "metadata": {},
   "outputs": [],
   "source": [
    "feed = feedparser.parse(RSS_URL)"
   ]
  },
  {
   "cell_type": "code",
   "execution_count": 40,
   "metadata": {},
   "outputs": [
    {
     "data": {
      "text/plain": [
       "feedparser.util.FeedParserDict"
      ]
     },
     "execution_count": 40,
     "metadata": {},
     "output_type": "execute_result"
    }
   ],
   "source": [
    "type(feed)"
   ]
  },
  {
   "cell_type": "markdown",
   "metadata": {},
   "source": [
    "\"parse\" is the primary function in FeedParser. The returned object is dictionary like and can be handled similarly to a dictionary. For example, we can look at the keys it contains and what type of items those keys are."
   ]
  },
  {
   "cell_type": "code",
   "execution_count": 41,
   "metadata": {},
   "outputs": [
    {
     "data": {
      "text/plain": [
       "dict_keys(['bozo', 'entries', 'feed', 'headers', 'updated', 'updated_parsed', 'href', 'status', 'encoding', 'version', 'namespaces'])"
      ]
     },
     "execution_count": 41,
     "metadata": {},
     "output_type": "execute_result"
    }
   ],
   "source": [
    "feed.keys()"
   ]
  },
  {
   "cell_type": "code",
   "execution_count": 42,
   "metadata": {},
   "outputs": [
    {
     "data": {
      "text/plain": [
       "bool"
      ]
     },
     "execution_count": 42,
     "metadata": {},
     "output_type": "execute_result"
    }
   ],
   "source": [
    "type(feed.bozo)"
   ]
  },
  {
   "cell_type": "code",
   "execution_count": 43,
   "metadata": {
    "scrolled": false
   },
   "outputs": [
    {
     "data": {
      "text/plain": [
       "feedparser.util.FeedParserDict"
      ]
     },
     "execution_count": 43,
     "metadata": {},
     "output_type": "execute_result"
    }
   ],
   "source": [
    "type(feed.feed)"
   ]
  },
  {
   "cell_type": "markdown",
   "metadata": {},
   "source": [
    "We will look at some, but not all, of the data stored in the feed. For more information about the keys, see the [documentation](http://pythonhosted.org/feedparser/).\n",
    "\n",
    "We can use the version to check which type of feed we have."
   ]
  },
  {
   "cell_type": "code",
   "execution_count": 44,
   "metadata": {},
   "outputs": [
    {
     "data": {
      "text/plain": [
       "'rss20'"
      ]
     },
     "execution_count": 44,
     "metadata": {},
     "output_type": "execute_result"
    }
   ],
   "source": [
    "feed.version"
   ]
  },
  {
   "cell_type": "markdown",
   "metadata": {},
   "source": [
    "Bozo is an interesing key to know about if you are going to parse a RSS feed in code. FeedParser sets the bozo bit when it detects a feed is not well-formed. (FeedParser will still parse the feed if it is not well-formed.) You can use the bozo bit to create error handling or just print a simple warning."
   ]
  },
  {
   "cell_type": "code",
   "execution_count": 45,
   "metadata": {},
   "outputs": [
    {
     "name": "stdout",
     "output_type": "stream",
     "text": [
      "Well done, you have a well-formed feed!\n"
     ]
    }
   ],
   "source": [
    "if feed.bozo == 0:\n",
    "    print(\"Well done, you have a well-formed feed!\")\n",
    "else:\n",
    "    print(\"Potential trouble ahead.\")"
   ]
  },
  {
   "cell_type": "markdown",
   "metadata": {},
   "source": [
    "We can look at some of the feed elements through the feed attribute."
   ]
  },
  {
   "cell_type": "code",
   "execution_count": 46,
   "metadata": {},
   "outputs": [
    {
     "data": {
      "text/plain": [
       "dict_keys(['webfeeds_analytics', 'title', 'title_detail', 'links', 'link', 'subtitle', 'subtitle_detail', 'language', 'published', 'published_parsed', 'updated', 'updated_parsed', 'authors', 'author', 'author_detail', 'publisher', 'publisher_detail'])"
      ]
     },
     "execution_count": 46,
     "metadata": {},
     "output_type": "execute_result"
    }
   ],
   "source": [
    "feed.feed.keys()"
   ]
  },
  {
   "cell_type": "code",
   "execution_count": 47,
   "metadata": {},
   "outputs": [
    {
     "name": "stdout",
     "output_type": "stream",
     "text": [
      "New On Netflix USA\n",
      "https://usa.newonnetflix.info\n",
      "RSS feed for new additions over the last 5 days to Netflix USA (100% unofficial!). A project by MaFt.co.uk\n"
     ]
    }
   ],
   "source": [
    "print(feed.feed.title)\n",
    "print(feed.feed.link)\n",
    "print(feed.feed.description)"
   ]
  },
  {
   "cell_type": "markdown",
   "metadata": {},
   "source": [
    "The [reference section](http://pythonhosted.org/feedparser/reference.html) of the feedparser documenation shows us all the inforamtion thatcan be in a feed. [Annotated Examples](http://pythonhosted.org/feedparser/annotated-examples.html) are also provided. But note the caution provided-\n",
    "\n",
    "\"Caution: Even though many of these elements are required according to the specification, real-world feeds may be missing any element. If an element is not present in the feed, it will not be present in the parsed results. You should not rely on any particular element being present.\"\n",
    "\n",
    "For example, our feed is RSS 2.0. One of the elements available in this version is the published date."
   ]
  },
  {
   "cell_type": "code",
   "execution_count": 48,
   "metadata": {},
   "outputs": [
    {
     "data": {
      "text/plain": [
       "'Thu, 07 Oct 2021 11:07:08 -0400'"
      ]
     },
     "execution_count": 48,
     "metadata": {},
     "output_type": "execute_result"
    }
   ],
   "source": [
    "feed.feed.published"
   ]
  },
  {
   "cell_type": "markdown",
   "metadata": {},
   "source": [
    "We can see from our error, our feed is not using 'published'.\n",
    "\n",
    "As with [standard python dictionaries](https://docs.python.org/3.5/library/stdtypes.html#dict), we can use the \"get\" method to see if a key exists. This is useful if we are writing code."
   ]
  },
  {
   "cell_type": "code",
   "execution_count": 49,
   "metadata": {},
   "outputs": [
    {
     "data": {
      "text/plain": [
       "'Thu, 07 Oct 2021 11:07:08 -0400'"
      ]
     },
     "execution_count": 49,
     "metadata": {},
     "output_type": "execute_result"
    }
   ],
   "source": [
    "feed.feed.get('published', 'N/A')"
   ]
  },
  {
   "cell_type": "markdown",
   "metadata": {},
   "source": [
    "The data we are looking for are contained in the entries. Given the feed we are working with, how many entries do you think we have?"
   ]
  },
  {
   "cell_type": "code",
   "execution_count": 50,
   "metadata": {},
   "outputs": [
    {
     "data": {
      "text/plain": [
       "23"
      ]
     },
     "execution_count": 50,
     "metadata": {},
     "output_type": "execute_result"
    }
   ],
   "source": [
    "len(feed.entries)"
   ]
  },
  {
   "cell_type": "markdown",
   "metadata": {
    "scrolled": false
   },
   "source": [
    "The items in entries are stored as a list."
   ]
  },
  {
   "cell_type": "code",
   "execution_count": 51,
   "metadata": {},
   "outputs": [
    {
     "data": {
      "text/plain": [
       "list"
      ]
     },
     "execution_count": 51,
     "metadata": {},
     "output_type": "execute_result"
    }
   ],
   "source": [
    "type(feed.entries)"
   ]
  },
  {
   "cell_type": "code",
   "execution_count": 52,
   "metadata": {},
   "outputs": [
    {
     "data": {
      "text/plain": [
       "'7th Oct: Thalaivii (2021), 2hr 28m [TV-PG] (6/10)'"
      ]
     },
     "execution_count": 52,
     "metadata": {},
     "output_type": "execute_result"
    }
   ],
   "source": [
    "feed.entries[0].title"
   ]
  },
  {
   "cell_type": "code",
   "execution_count": 53,
   "metadata": {},
   "outputs": [
    {
     "name": "stdout",
     "output_type": "stream",
     "text": [
      "0 7th Oct: Thalaivii (2021), 2hr 28m [TV-PG] (6/10)\n",
      "1 7th Oct: Encounters (2019), 1 Season [TV-PG] (6/10)\n",
      "2 7th Oct: Making The Billion Dollar Code (2021), 28m [TV-PG] (6/10)\n",
      "3 7th Oct: The Ingenuity of the Househusband (2021), 1 Season [TV-G] - New Episodes (6.35/10)\n",
      "4 7th Oct: The Billion Dollar Code (2021), 1 Season [TV-MA] (6/10)\n",
      "5 7th Oct: The Way of the Househusband (2021), 1 Season [TV-MA] - New Episodes (6.65/10)\n",
      "6 7th Oct: Sexy Beasts (2021), 2 Seasons [TV-14] - New Episodes (5.3/10)\n",
      "7 6th Oct: Ella Fitzgerald: Just One of Those Things (2019), 1hr 29m [TV-14] (6.4/10)\n",
      "8 6th Oct: Bad Sport (2021), 1 Volume [TV-MA] (6/10)\n",
      "9 6th Oct: Baking Impossible (2021), 1 Season [TV-PG] (6/10)\n",
      "10 6th Oct: The Five Juanas (2021), 1 Season [TV-MA] (6/10)\n",
      "11 6th Oct: Love Is Blind: Brazil (2021), 1 Season [TV-MA] (6/10)\n",
      "12 6th Oct: There's Someone Inside Your House (2021), 1hr 36m [TV-MA] (6/10)\n",
      "13 6th Oct: The Blacklist (2021), 8 Seasons [TV-14] - New Episodes (7/10)\n",
      "14 5th Oct: Remember You (2021), 1 Season [TV-MA] (6/10)\n",
      "15 5th Oct: Dave Chappelle: The Closer (2021), 1hr 12m [TV-MA] (6/10)\n",
      "16 5th Oct: Escape The Undertaker (2021), 1hr 16m [TV-PG] (6/10)\n",
      "17 4th Oct: Devadas Brothers (2021), 1hr 37m [TV-MA] (6/10)\n",
      "18 4th Oct: On My Block (2021), 4 Seasons [TV-14] - New Episodes (7/10)\n",
      "19 3rd Oct: Security (2017), 1hr 31m [R] - Streaming Again (5.85/10)\n",
      "20 3rd Oct: RBG (2018), 1hr 38m [PG] (6.8/10)\n",
      "21 3rd Oct: Upcoming Summer (2021), 1hr 54m [TV-PG] (6.5/10)\n",
      "22 3rd Oct: Scissor Seven (2020), 3 Seasons [TV-MA] - New Episodes (7.15/10)\n"
     ]
    }
   ],
   "source": [
    "i = 0\n",
    "for entry in feed.entries:\n",
    "    print(i, feed.entries[i].title)\n",
    "    i += 1"
   ]
  },
  {
   "cell_type": "markdown",
   "metadata": {},
   "source": [
    "Given that information, what is something we can do with this data? Why not make it a dataframe?"
   ]
  },
  {
   "cell_type": "code",
   "execution_count": 54,
   "metadata": {},
   "outputs": [],
   "source": [
    "df = pd.DataFrame(feed.entries)"
   ]
  },
  {
   "cell_type": "code",
   "execution_count": 55,
   "metadata": {
    "scrolled": false
   },
   "outputs": [
    {
     "data": {
      "text/html": [
       "<div>\n",
       "<style scoped>\n",
       "    .dataframe tbody tr th:only-of-type {\n",
       "        vertical-align: middle;\n",
       "    }\n",
       "\n",
       "    .dataframe tbody tr th {\n",
       "        vertical-align: top;\n",
       "    }\n",
       "\n",
       "    .dataframe thead th {\n",
       "        text-align: right;\n",
       "    }\n",
       "</style>\n",
       "<table border=\"1\" class=\"dataframe\">\n",
       "  <thead>\n",
       "    <tr style=\"text-align: right;\">\n",
       "      <th></th>\n",
       "      <th>title</th>\n",
       "      <th>title_detail</th>\n",
       "      <th>links</th>\n",
       "      <th>link</th>\n",
       "      <th>summary</th>\n",
       "      <th>summary_detail</th>\n",
       "      <th>published</th>\n",
       "      <th>published_parsed</th>\n",
       "      <th>id</th>\n",
       "      <th>guidislink</th>\n",
       "    </tr>\n",
       "  </thead>\n",
       "  <tbody>\n",
       "    <tr>\n",
       "      <th>0</th>\n",
       "      <td>7th Oct: Thalaivii (2021), 2hr 28m [TV-PG] (6/10)</td>\n",
       "      <td>{'type': 'text/plain', 'language': None, 'base...</td>\n",
       "      <td>[{'rel': 'alternate', 'type': 'text/html', 'hr...</td>\n",
       "      <td>https://usa.newonnetflix.info/info/81220676</td>\n",
       "      <td>This biopic charts the life of actor-turned-ch...</td>\n",
       "      <td>{'type': 'text/html', 'language': None, 'base'...</td>\n",
       "      <td>Thu, 07 Oct 2021 11:07:08 -0400</td>\n",
       "      <td>(2021, 10, 7, 15, 7, 8, 3, 280, 0)</td>\n",
       "      <td>https://usa.newonnetflix.info/info/81220676</td>\n",
       "      <td>False</td>\n",
       "    </tr>\n",
       "    <tr>\n",
       "      <th>1</th>\n",
       "      <td>7th Oct: Encounters (2019), 1 Season [TV-PG] (...</td>\n",
       "      <td>{'type': 'text/plain', 'language': None, 'base...</td>\n",
       "      <td>[{'rel': 'alternate', 'type': 'text/html', 'hr...</td>\n",
       "      <td>https://usa.newonnetflix.info/info/81453806</td>\n",
       "      <td>To please her mother, a woman sets out to find...</td>\n",
       "      <td>{'type': 'text/html', 'language': None, 'base'...</td>\n",
       "      <td>Thu, 07 Oct 2021 01:07:09 -0400</td>\n",
       "      <td>(2021, 10, 7, 5, 7, 9, 3, 280, 0)</td>\n",
       "      <td>https://usa.newonnetflix.info/info/81453806</td>\n",
       "      <td>False</td>\n",
       "    </tr>\n",
       "    <tr>\n",
       "      <th>2</th>\n",
       "      <td>7th Oct: Making The Billion Dollar Code (2021)...</td>\n",
       "      <td>{'type': 'text/plain', 'language': None, 'base...</td>\n",
       "      <td>[{'rel': 'alternate', 'type': 'text/html', 'hr...</td>\n",
       "      <td>https://usa.newonnetflix.info/info/81503864</td>\n",
       "      <td>In this featurette, ART + COM members join the...</td>\n",
       "      <td>{'type': 'text/html', 'language': None, 'base'...</td>\n",
       "      <td>Thu, 07 Oct 2021 01:07:09 -0400</td>\n",
       "      <td>(2021, 10, 7, 5, 7, 9, 3, 280, 0)</td>\n",
       "      <td>https://usa.newonnetflix.info/info/81503864</td>\n",
       "      <td>False</td>\n",
       "    </tr>\n",
       "    <tr>\n",
       "      <th>3</th>\n",
       "      <td>7th Oct: The Ingenuity of the Househusband (20...</td>\n",
       "      <td>{'type': 'text/plain', 'language': None, 'base...</td>\n",
       "      <td>[{'rel': 'alternate', 'type': 'text/html', 'hr...</td>\n",
       "      <td>https://usa.newonnetflix.info/info/81389585</td>\n",
       "      <td>[New Episodes] A tough guy with a knack for ho...</td>\n",
       "      <td>{'type': 'text/html', 'language': None, 'base'...</td>\n",
       "      <td>Wed, 06 Oct 2021 22:15:46 -0400</td>\n",
       "      <td>(2021, 10, 7, 2, 15, 46, 3, 280, 0)</td>\n",
       "      <td>https://usa.newonnetflix.info/info/81389585</td>\n",
       "      <td>False</td>\n",
       "    </tr>\n",
       "    <tr>\n",
       "      <th>4</th>\n",
       "      <td>7th Oct: The Billion Dollar Code (2021), 1 Sea...</td>\n",
       "      <td>{'type': 'text/plain', 'language': None, 'base...</td>\n",
       "      <td>[{'rel': 'alternate', 'type': 'text/html', 'hr...</td>\n",
       "      <td>https://usa.newonnetflix.info/info/81074012</td>\n",
       "      <td>In 1990s Berlin, an artist and a hacker invent...</td>\n",
       "      <td>{'type': 'text/html', 'language': None, 'base'...</td>\n",
       "      <td>Wed, 06 Oct 2021 22:07:27 -0400</td>\n",
       "      <td>(2021, 10, 7, 2, 7, 27, 3, 280, 0)</td>\n",
       "      <td>https://usa.newonnetflix.info/info/81074012</td>\n",
       "      <td>False</td>\n",
       "    </tr>\n",
       "  </tbody>\n",
       "</table>\n",
       "</div>"
      ],
      "text/plain": [
       "                                               title  \\\n",
       "0  7th Oct: Thalaivii (2021), 2hr 28m [TV-PG] (6/10)   \n",
       "1  7th Oct: Encounters (2019), 1 Season [TV-PG] (...   \n",
       "2  7th Oct: Making The Billion Dollar Code (2021)...   \n",
       "3  7th Oct: The Ingenuity of the Househusband (20...   \n",
       "4  7th Oct: The Billion Dollar Code (2021), 1 Sea...   \n",
       "\n",
       "                                        title_detail  \\\n",
       "0  {'type': 'text/plain', 'language': None, 'base...   \n",
       "1  {'type': 'text/plain', 'language': None, 'base...   \n",
       "2  {'type': 'text/plain', 'language': None, 'base...   \n",
       "3  {'type': 'text/plain', 'language': None, 'base...   \n",
       "4  {'type': 'text/plain', 'language': None, 'base...   \n",
       "\n",
       "                                               links  \\\n",
       "0  [{'rel': 'alternate', 'type': 'text/html', 'hr...   \n",
       "1  [{'rel': 'alternate', 'type': 'text/html', 'hr...   \n",
       "2  [{'rel': 'alternate', 'type': 'text/html', 'hr...   \n",
       "3  [{'rel': 'alternate', 'type': 'text/html', 'hr...   \n",
       "4  [{'rel': 'alternate', 'type': 'text/html', 'hr...   \n",
       "\n",
       "                                          link  \\\n",
       "0  https://usa.newonnetflix.info/info/81220676   \n",
       "1  https://usa.newonnetflix.info/info/81453806   \n",
       "2  https://usa.newonnetflix.info/info/81503864   \n",
       "3  https://usa.newonnetflix.info/info/81389585   \n",
       "4  https://usa.newonnetflix.info/info/81074012   \n",
       "\n",
       "                                             summary  \\\n",
       "0  This biopic charts the life of actor-turned-ch...   \n",
       "1  To please her mother, a woman sets out to find...   \n",
       "2  In this featurette, ART + COM members join the...   \n",
       "3  [New Episodes] A tough guy with a knack for ho...   \n",
       "4  In 1990s Berlin, an artist and a hacker invent...   \n",
       "\n",
       "                                      summary_detail  \\\n",
       "0  {'type': 'text/html', 'language': None, 'base'...   \n",
       "1  {'type': 'text/html', 'language': None, 'base'...   \n",
       "2  {'type': 'text/html', 'language': None, 'base'...   \n",
       "3  {'type': 'text/html', 'language': None, 'base'...   \n",
       "4  {'type': 'text/html', 'language': None, 'base'...   \n",
       "\n",
       "                         published                     published_parsed  \\\n",
       "0  Thu, 07 Oct 2021 11:07:08 -0400   (2021, 10, 7, 15, 7, 8, 3, 280, 0)   \n",
       "1  Thu, 07 Oct 2021 01:07:09 -0400    (2021, 10, 7, 5, 7, 9, 3, 280, 0)   \n",
       "2  Thu, 07 Oct 2021 01:07:09 -0400    (2021, 10, 7, 5, 7, 9, 3, 280, 0)   \n",
       "3  Wed, 06 Oct 2021 22:15:46 -0400  (2021, 10, 7, 2, 15, 46, 3, 280, 0)   \n",
       "4  Wed, 06 Oct 2021 22:07:27 -0400   (2021, 10, 7, 2, 7, 27, 3, 280, 0)   \n",
       "\n",
       "                                            id  guidislink  \n",
       "0  https://usa.newonnetflix.info/info/81220676       False  \n",
       "1  https://usa.newonnetflix.info/info/81453806       False  \n",
       "2  https://usa.newonnetflix.info/info/81503864       False  \n",
       "3  https://usa.newonnetflix.info/info/81389585       False  \n",
       "4  https://usa.newonnetflix.info/info/81074012       False  "
      ]
     },
     "execution_count": 55,
     "metadata": {},
     "output_type": "execute_result"
    }
   ],
   "source": [
    "df.head()"
   ]
  },
  {
   "cell_type": "markdown",
   "metadata": {},
   "source": [
    "Challenge: write code to create a dataframe of the top 10 movies from the Netflix Top 100 DVDs and iTunes. Check to see if your feed is well formed. Compile the name of the feed as the souce, the published date, the movie ranking in the list, the movie title, a link to the movie, and the summary. If the published date does not exist in the feed, use the current date. Save your dataframe as a csv. Here is a link to one [possible solution](./rss_challenge.py)."
   ]
  }
 ],
 "metadata": {
  "anaconda-cloud": {},
  "kernelspec": {
   "display_name": "Python 3",
   "language": "python",
   "name": "python3"
  },
  "language_info": {
   "codemirror_mode": {
    "name": "ipython",
    "version": 3
   },
   "file_extension": ".py",
   "mimetype": "text/x-python",
   "name": "python",
   "nbconvert_exporter": "python",
   "pygments_lexer": "ipython3",
   "version": "3.8.5"
  }
 },
 "nbformat": 4,
 "nbformat_minor": 1
}
